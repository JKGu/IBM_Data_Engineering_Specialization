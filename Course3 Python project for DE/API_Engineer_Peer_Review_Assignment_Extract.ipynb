{
 "cells": [
  {
   "cell_type": "markdown",
   "metadata": {},
   "source": [
    "<center>\n",
    "    <img src=\"https://gitlab.com/ibm/skills-network/courses/placeholder101/-/raw/master/labs/module%201/images/IDSNlogo.png\" width=\"300\" alt=\"cognitiveclass.ai logo\"  />\n",
    "</center>\n"
   ]
  },
  {
   "cell_type": "markdown",
   "metadata": {},
   "source": [
    "# Peer Review Assignment - Data Engineer - Extract API Data\n"
   ]
  },
  {
   "cell_type": "markdown",
   "metadata": {},
   "source": [
    "Estimated time needed: **20** minutes\n"
   ]
  },
  {
   "cell_type": "markdown",
   "metadata": {},
   "source": [
    "## Objectives\n",
    "\n",
    "In this part you will:\n",
    "\n",
    "*   Collect exchange rate data using an API\n",
    "*   Store the data as a CSV\n"
   ]
  },
  {
   "cell_type": "markdown",
   "metadata": {},
   "source": [
    "For this lab, we are going to be using Python and several Python libraries. Some of these libraries might be installed in your lab environment or in SN Labs. Others may need to be installed by you. The cells below will install these libraries when executed.\n"
   ]
  },
  {
   "cell_type": "code",
   "execution_count": null,
   "metadata": {},
   "outputs": [],
   "source": [
    "#!pip install pandas\n",
    "#!pip install requests"
   ]
  },
  {
   "cell_type": "markdown",
   "metadata": {},
   "source": [
    "## Imports\n",
    "\n",
    "Import any additional libraries you may need here.\n"
   ]
  },
  {
   "cell_type": "code",
   "execution_count": 1,
   "metadata": {},
   "outputs": [],
   "source": [
    "import requests\n",
    "import pandas as pd"
   ]
  },
  {
   "cell_type": "markdown",
   "metadata": {},
   "source": [
    "## Extract Data Using an API\n"
   ]
  },
  {
   "cell_type": "markdown",
   "metadata": {},
   "source": [
    "Using ExchangeRate-API we will extract currency exchange rate data. Use the below steps to get the access key and to get the data.\n",
    "\n",
    "1.  Open the url : [https://exchangeratesapi.io/](https://exchangeratesapi.io/?utm_medium=Exinfluencer&utm_source=Exinfluencer&utm_content=000026UJ&utm_term=10006555&utm_id=NA-SkillsNetwork-Channel-SkillsNetworkCoursesIBMDeveloperSkillsNetworkPY0221ENSkillsNetwork23455645-2021-01-01) and create a free account.\n",
    "2.  Once the account is created. You will get the Get the Free API key option on the top as shown below:\n",
    "\n",
    "<img src=\"https://cf-courses-data.s3.us.cloud-object-storage.appdomain.cloud/IBMDeveloperSkillsNetwork-PY0221EN-SkillsNetwork/labs/module%206/Final%20Assignment/Images/getapi.png\"/>\n",
    "\n",
    "3.  Copy the API key and use in the url in Question 1.\n"
   ]
  },
  {
   "cell_type": "markdown",
   "metadata": {},
   "source": [
    "### Call the API\n",
    "\n",
    "<b> Question 1</b> Using the `requests` library call the endpoint given above and save the text, remember the first few characters of the output:\n"
   ]
  },
  {
   "cell_type": "code",
   "execution_count": 7,
   "metadata": {},
   "outputs": [
    {
     "data": {
      "text/plain": [
       "{'success': True,\n",
       " 'timestamp': 1641760443,\n",
       " 'base': 'EUR',\n",
       " 'date': '2022-01-09',\n",
       " 'rates': {'AED': 4.173174,\n",
       "  'AFN': 118.735717,\n",
       "  'ALL': 121.506084,\n",
       "  'AMD': 546.922395,\n",
       "  'ANG': 2.03757,\n",
       "  'AOA': 625.948058,\n",
       "  'ARS': 116.764196,\n",
       "  'AUD': 1.584395,\n",
       "  'AWG': 2.045675,\n",
       "  'AZN': 1.933761,\n",
       "  'BAM': 1.956089,\n",
       "  'BBD': 2.282802,\n",
       "  'BDT': 97.157261,\n",
       "  'BGN': 1.95953,\n",
       "  'BHD': 0.428357,\n",
       "  'BIF': 2255.468553,\n",
       "  'BMD': 1.13617,\n",
       "  'BND': 1.536603,\n",
       "  'BOB': 7.78413,\n",
       "  'BRL': 6.403228,\n",
       "  'BSD': 1.13055,\n",
       "  'BTC': 2.67462e-05,\n",
       "  'BTN': 84.01112,\n",
       "  'BWP': 13.184745,\n",
       "  'BYN': 2.926787,\n",
       "  'BYR': 22268.93971,\n",
       "  'BZD': 2.278902,\n",
       "  'CAD': 1.43746,\n",
       "  'CDF': 2280.29364,\n",
       "  'CHF': 1.044375,\n",
       "  'CLF': 0.034223,\n",
       "  'CLP': 944.324999,\n",
       "  'CNY': 7.246149,\n",
       "  'COP': 4561.403787,\n",
       "  'CRC': 726.036104,\n",
       "  'CUC': 1.13617,\n",
       "  'CUP': 30.108515,\n",
       "  'CVE': 110.279598,\n",
       "  'CZK': 24.434991,\n",
       "  'DJF': 201.276643,\n",
       "  'DKK': 7.440456,\n",
       "  'DOP': 64.861586,\n",
       "  'DZD': 158.49898,\n",
       "  'EGP': 17.864541,\n",
       "  'ERN': 17.042645,\n",
       "  'ETB': 56.088624,\n",
       "  'EUR': 1,\n",
       "  'FJD': 2.424703,\n",
       "  'FKP': 0.857103,\n",
       "  'GBP': 0.836126,\n",
       "  'GEL': 3.51647,\n",
       "  'GGP': 0.857103,\n",
       "  'GHS': 6.992126,\n",
       "  'GIP': 0.857103,\n",
       "  'GMD': 59.982801,\n",
       "  'GNF': 10322.266345,\n",
       "  'GTQ': 8.728155,\n",
       "  'GYD': 236.541311,\n",
       "  'HKD': 8.859203,\n",
       "  'HNL': 27.759675,\n",
       "  'HRK': 7.520993,\n",
       "  'HTG': 113.033962,\n",
       "  'HUF': 359.250242,\n",
       "  'IDR': 16268.53982,\n",
       "  'ILS': 3.538967,\n",
       "  'IMP': 0.857103,\n",
       "  'INR': 84.391897,\n",
       "  'IQD': 1650.128425,\n",
       "  'IRR': 48003.199598,\n",
       "  'ISK': 146.168029,\n",
       "  'JEP': 0.857103,\n",
       "  'JMD': 174.603112,\n",
       "  'JOD': 0.805509,\n",
       "  'JPY': 131.389023,\n",
       "  'KES': 128.095856,\n",
       "  'KGS': 96.345097,\n",
       "  'KHR': 4607.109837,\n",
       "  'KMF': 492.532855,\n",
       "  'KPW': 1022.553266,\n",
       "  'KRW': 1360.626515,\n",
       "  'KWD': 0.343862,\n",
       "  'KYD': 0.942125,\n",
       "  'KZT': 492.315167,\n",
       "  'LAK': 12719.183621,\n",
       "  'LBP': 1709.726314,\n",
       "  'LKR': 229.368361,\n",
       "  'LRD': 167.159084,\n",
       "  'LSL': 17.769585,\n",
       "  'LTL': 3.354815,\n",
       "  'LVL': 0.687258,\n",
       "  'LYD': 5.199988,\n",
       "  'MAD': 10.497089,\n",
       "  'MDL': 20.220577,\n",
       "  'MGA': 4496.925252,\n",
       "  'MKD': 61.623157,\n",
       "  'MMK': 2010.188686,\n",
       "  'MNT': 3247.612016,\n",
       "  'MOP': 9.083102,\n",
       "  'MRO': 405.612635,\n",
       "  'MUR': 49.656573,\n",
       "  'MVR': 17.553477,\n",
       "  'MWK': 923.013178,\n",
       "  'MXN': 23.160838,\n",
       "  'MYR': 4.782097,\n",
       "  'MZN': 72.521991,\n",
       "  'NAD': 17.76399,\n",
       "  'NGN': 469.476824,\n",
       "  'NIO': 40.028298,\n",
       "  'NOK': 10.0477,\n",
       "  'NPR': 134.417793,\n",
       "  'NZD': 1.676201,\n",
       "  'OMR': 0.437438,\n",
       "  'PAB': 1.13055,\n",
       "  'PEN': 4.488394,\n",
       "  'PGK': 3.970526,\n",
       "  'PHP': 58.32372,\n",
       "  'PKR': 199.662129,\n",
       "  'PLN': 4.54597,\n",
       "  'PYG': 7862.340727,\n",
       "  'QAR': 4.136828,\n",
       "  'RON': 4.950862,\n",
       "  'RSD': 117.596566,\n",
       "  'RUB': 85.748881,\n",
       "  'RWF': 1173.155289,\n",
       "  'SAR': 4.264727,\n",
       "  'SBD': 9.188638,\n",
       "  'SCR': 17.02444,\n",
       "  'SDG': 497.074316,\n",
       "  'SEK': 10.295187,\n",
       "  'SGD': 1.540414,\n",
       "  'SHP': 1.564958,\n",
       "  'SLL': 12878.491616,\n",
       "  'SOS': 663.523529,\n",
       "  'SRD': 24.164088,\n",
       "  'STD': 23516.433223,\n",
       "  'SVC': 9.892309,\n",
       "  'SYP': 2854.619914,\n",
       "  'SZL': 17.659838,\n",
       "  'THB': 38.237815,\n",
       "  'TJS': 12.76999,\n",
       "  'TMT': 3.976596,\n",
       "  'TND': 3.273322,\n",
       "  'TOP': 2.595581,\n",
       "  'TRY': 15.650695,\n",
       "  'TTD': 7.674116,\n",
       "  'TWD': 31.418508,\n",
       "  'TZS': 2609.405403,\n",
       "  'UAH': 31.085915,\n",
       "  'UGX': 4007.930524,\n",
       "  'USD': 1.13617,\n",
       "  'UYU': 50.588696,\n",
       "  'UZS': 12230.778972,\n",
       "  'VEF': 242947567823.8196,\n",
       "  'VND': 25779.706225,\n",
       "  'VUV': 128.674311,\n",
       "  'WST': 2.954237,\n",
       "  'XAF': 656.04384,\n",
       "  'XAG': 0.05079,\n",
       "  'XAU': 0.000632,\n",
       "  'XCD': 3.070557,\n",
       "  'XDR': 0.808507,\n",
       "  'XOF': 656.04384,\n",
       "  'XPF': 119.894367,\n",
       "  'YER': 284.326785,\n",
       "  'ZAR': 17.74982,\n",
       "  'ZMK': 10226.887464,\n",
       "  'ZMW': 19.056122,\n",
       "  'ZWL': 365.846403}}"
      ]
     },
     "execution_count": 7,
     "metadata": {},
     "output_type": "execute_result"
    }
   ],
   "source": [
    "# Write your code here\n",
    "url = \"http://api.exchangeratesapi.io/v1/latest?base=EUR&access_key=bd7f573fdafa34966d4dbdc2670a80b5\"  #Make sure to change ******* to your API key.\n",
    "data = requests.get(url).json()\n",
    "data"
   ]
  },
  {
   "cell_type": "markdown",
   "metadata": {},
   "source": [
    "### Save as DataFrame\n",
    "\n",
    "<b> Question 2</b>  Using the data gathered turn it into a `pandas` dataframe. The dataframe should have the Currency as the index and `Rate` as their columns. Make sure to drop unnecessary columns.\n"
   ]
  },
  {
   "cell_type": "code",
   "execution_count": 13,
   "metadata": {},
   "outputs": [
    {
     "data": {
      "text/html": [
       "<div>\n",
       "<style scoped>\n",
       "    .dataframe tbody tr th:only-of-type {\n",
       "        vertical-align: middle;\n",
       "    }\n",
       "\n",
       "    .dataframe tbody tr th {\n",
       "        vertical-align: top;\n",
       "    }\n",
       "\n",
       "    .dataframe thead th {\n",
       "        text-align: right;\n",
       "    }\n",
       "</style>\n",
       "<table border=\"1\" class=\"dataframe\">\n",
       "  <thead>\n",
       "    <tr style=\"text-align: right;\">\n",
       "      <th></th>\n",
       "      <th>Rate</th>\n",
       "    </tr>\n",
       "    <tr>\n",
       "      <th>Currency</th>\n",
       "      <th></th>\n",
       "    </tr>\n",
       "  </thead>\n",
       "  <tbody>\n",
       "    <tr>\n",
       "      <th>AED</th>\n",
       "      <td>4.173174</td>\n",
       "    </tr>\n",
       "    <tr>\n",
       "      <th>AFN</th>\n",
       "      <td>118.735717</td>\n",
       "    </tr>\n",
       "    <tr>\n",
       "      <th>ALL</th>\n",
       "      <td>121.506084</td>\n",
       "    </tr>\n",
       "    <tr>\n",
       "      <th>AMD</th>\n",
       "      <td>546.922395</td>\n",
       "    </tr>\n",
       "    <tr>\n",
       "      <th>ANG</th>\n",
       "      <td>2.037570</td>\n",
       "    </tr>\n",
       "    <tr>\n",
       "      <th>...</th>\n",
       "      <td>...</td>\n",
       "    </tr>\n",
       "    <tr>\n",
       "      <th>YER</th>\n",
       "      <td>284.326785</td>\n",
       "    </tr>\n",
       "    <tr>\n",
       "      <th>ZAR</th>\n",
       "      <td>17.749820</td>\n",
       "    </tr>\n",
       "    <tr>\n",
       "      <th>ZMK</th>\n",
       "      <td>10226.887464</td>\n",
       "    </tr>\n",
       "    <tr>\n",
       "      <th>ZMW</th>\n",
       "      <td>19.056122</td>\n",
       "    </tr>\n",
       "    <tr>\n",
       "      <th>ZWL</th>\n",
       "      <td>365.846403</td>\n",
       "    </tr>\n",
       "  </tbody>\n",
       "</table>\n",
       "<p>168 rows × 1 columns</p>\n",
       "</div>"
      ],
      "text/plain": [
       "                  Rate\n",
       "Currency              \n",
       "AED           4.173174\n",
       "AFN         118.735717\n",
       "ALL         121.506084\n",
       "AMD         546.922395\n",
       "ANG           2.037570\n",
       "...                ...\n",
       "YER         284.326785\n",
       "ZAR          17.749820\n",
       "ZMK       10226.887464\n",
       "ZMW          19.056122\n",
       "ZWL         365.846403\n",
       "\n",
       "[168 rows x 1 columns]"
      ]
     },
     "execution_count": 13,
     "metadata": {},
     "output_type": "execute_result"
    }
   ],
   "source": [
    "# Turn the data into a dataframe\n",
    "df = pd.DataFrame(data['rates'].items(), columns=['Currency','Rate'])\n",
    "df = df.set_index('Currency')\n",
    "df"
   ]
  },
  {
   "cell_type": "code",
   "execution_count": null,
   "metadata": {},
   "outputs": [],
   "source": [
    "# Drop unnescessary columns\n"
   ]
  },
  {
   "cell_type": "markdown",
   "metadata": {},
   "source": [
    "### Load the Data\n",
    "\n",
    "Using the dataframe save it as a CSV names `exchange_rates_1.csv`.\n"
   ]
  },
  {
   "cell_type": "code",
   "execution_count": 11,
   "metadata": {},
   "outputs": [],
   "source": [
    "# Save the Dataframe\n",
    "df.to_csv('exchange_rates_1.csv')"
   ]
  },
  {
   "cell_type": "markdown",
   "metadata": {},
   "source": [
    "Your CSV should be in this format with more currencies\n",
    "\n",
    "|     | Rates      |\n",
    "| --- | ---------- |\n",
    "| AED | 4.398618   |\n",
    "| AFN | 92.917693  |\n",
    "| ALL | 123.099093 |\n",
    "| AMD | 621.935674 |\n",
    "| ANG | 2.149648   |\n"
   ]
  },
  {
   "cell_type": "markdown",
   "metadata": {},
   "source": [
    "## Authors\n"
   ]
  },
  {
   "cell_type": "markdown",
   "metadata": {},
   "source": [
    "Ramesh Sannareddy, Joseph Santarcangelo and Azim Hirjani\n"
   ]
  },
  {
   "cell_type": "markdown",
   "metadata": {},
   "source": [
    "### Other Contributors\n"
   ]
  },
  {
   "cell_type": "markdown",
   "metadata": {},
   "source": [
    "Rav Ahuja\n"
   ]
  },
  {
   "cell_type": "markdown",
   "metadata": {},
   "source": [
    "## Change Log\n"
   ]
  },
  {
   "cell_type": "markdown",
   "metadata": {},
   "source": [
    "| Date (YYYY-MM-DD) | Version | Changed By        | Change Description                 |\n",
    "| ----------------- | ------- | ----------------- | ---------------------------------- |\n",
    "| 2021-04-15        | 0.2     | Malika            | Updated the lab from USD to EUR    |\n",
    "| 2020-11-25        | 0.1     | Ramesh Sannareddy | Created initial version of the lab |\n"
   ]
  },
  {
   "cell_type": "markdown",
   "metadata": {},
   "source": [
    "Copyright © 2020 IBM Corporation. This notebook and its source code are released under the terms of the [MIT License](https://cognitiveclass.ai/mit-license?utm_medium=Exinfluencer&utm_source=Exinfluencer&utm_content=000026UJ&utm_term=10006555&utm_id=NA-SkillsNetwork-Channel-SkillsNetworkCoursesIBMDeveloperSkillsNetworkPY0221ENSkillsNetwork23455645-2021-01-01&cm_mmc=Email_Newsletter-\\_-Developer_Ed%2BTech-\\_-WW_WW-\\_-SkillsNetwork-Courses-IBM-DA0321EN-SkillsNetwork-21426264&cm_mmca1=000026UJ&cm_mmca2=10006555&cm_mmca3=M12345678&cvosrc=email.Newsletter.M12345678&cvo_campaign=000026UJ).\n"
   ]
  }
 ],
 "metadata": {
  "kernelspec": {
   "display_name": "Python",
   "language": "python",
   "name": "conda-env-python-py"
  },
  "language_info": {
   "codemirror_mode": {
    "name": "ipython",
    "version": 3
   },
   "file_extension": ".py",
   "mimetype": "text/x-python",
   "name": "python",
   "nbconvert_exporter": "python",
   "pygments_lexer": "ipython3",
   "version": "3.7.12"
  }
 },
 "nbformat": 4,
 "nbformat_minor": 4
}
